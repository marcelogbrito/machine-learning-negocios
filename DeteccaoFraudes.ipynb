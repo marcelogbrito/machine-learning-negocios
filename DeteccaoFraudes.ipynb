{
  "nbformat": 4,
  "nbformat_minor": 0,
  "metadata": {
    "colab": {
      "name": "DeteccaoFraudes.ipynb",
      "provenance": [],
      "collapsed_sections": [],
      "toc_visible": true,
      "authorship_tag": "ABX9TyPwLAMWD92tcdmQMFmOeRal",
      "include_colab_link": true
    },
    "kernelspec": {
      "name": "python3",
      "display_name": "Python 3"
    },
    "language_info": {
      "name": "python"
    }
  },
  "cells": [
    {
      "cell_type": "markdown",
      "metadata": {
        "id": "view-in-github",
        "colab_type": "text"
      },
      "source": [
        "<a href=\"https://colab.research.google.com/github/marcelogbrito/machine-learning-negocios/blob/main/DeteccaoFraudes.ipynb\" target=\"_parent\"><img src=\"https://colab.research.google.com/assets/colab-badge.svg\" alt=\"Open In Colab\"/></a>"
      ]
    },
    {
      "cell_type": "code",
      "metadata": {
        "id": "j7eQNFIFcBns"
      },
      "source": [
        "import numpy as np\n",
        "import pandas as pd\n",
        "from scipy import special\n",
        "\n",
        "import itertools\n",
        "from datetime import timedelta\n",
        "from IPython.display import display"
      ],
      "execution_count": null,
      "outputs": []
    },
    {
      "cell_type": "code",
      "metadata": {
        "colab": {
          "base_uri": "https://localhost:8080/",
          "height": 374
        },
        "id": "tKwakUsAcMAM",
        "outputId": "ac5a2bfa-c395-4b72-f185-747b1bee4e21"
      },
      "source": [
        "fraudes = pd.read_csv('Fraud_Data.csv', header=0)"
      ],
      "execution_count": null,
      "outputs": [
        {
          "output_type": "error",
          "ename": "FileNotFoundError",
          "evalue": "ignored",
          "traceback": [
            "\u001b[0;31m---------------------------------------------------------------------------\u001b[0m",
            "\u001b[0;31mFileNotFoundError\u001b[0m                         Traceback (most recent call last)",
            "\u001b[0;32m<ipython-input-2-369429f1eb86>\u001b[0m in \u001b[0;36m<module>\u001b[0;34m()\u001b[0m\n\u001b[0;32m----> 1\u001b[0;31m \u001b[0mfraudes\u001b[0m \u001b[0;34m=\u001b[0m \u001b[0mpd\u001b[0m\u001b[0;34m.\u001b[0m\u001b[0mread_csv\u001b[0m\u001b[0;34m(\u001b[0m\u001b[0;34m'Fraud_Data.csv'\u001b[0m\u001b[0;34m,\u001b[0m \u001b[0mheader\u001b[0m\u001b[0;34m=\u001b[0m\u001b[0;36m0\u001b[0m\u001b[0;34m)\u001b[0m\u001b[0;34m\u001b[0m\u001b[0;34m\u001b[0m\u001b[0m\n\u001b[0m",
            "\u001b[0;32m/usr/local/lib/python3.7/dist-packages/pandas/io/parsers.py\u001b[0m in \u001b[0;36mread_csv\u001b[0;34m(filepath_or_buffer, sep, delimiter, header, names, index_col, usecols, squeeze, prefix, mangle_dupe_cols, dtype, engine, converters, true_values, false_values, skipinitialspace, skiprows, skipfooter, nrows, na_values, keep_default_na, na_filter, verbose, skip_blank_lines, parse_dates, infer_datetime_format, keep_date_col, date_parser, dayfirst, cache_dates, iterator, chunksize, compression, thousands, decimal, lineterminator, quotechar, quoting, doublequote, escapechar, comment, encoding, dialect, error_bad_lines, warn_bad_lines, delim_whitespace, low_memory, memory_map, float_precision)\u001b[0m\n\u001b[1;32m    686\u001b[0m     )\n\u001b[1;32m    687\u001b[0m \u001b[0;34m\u001b[0m\u001b[0m\n\u001b[0;32m--> 688\u001b[0;31m     \u001b[0;32mreturn\u001b[0m \u001b[0m_read\u001b[0m\u001b[0;34m(\u001b[0m\u001b[0mfilepath_or_buffer\u001b[0m\u001b[0;34m,\u001b[0m \u001b[0mkwds\u001b[0m\u001b[0;34m)\u001b[0m\u001b[0;34m\u001b[0m\u001b[0;34m\u001b[0m\u001b[0m\n\u001b[0m\u001b[1;32m    689\u001b[0m \u001b[0;34m\u001b[0m\u001b[0m\n\u001b[1;32m    690\u001b[0m \u001b[0;34m\u001b[0m\u001b[0m\n",
            "\u001b[0;32m/usr/local/lib/python3.7/dist-packages/pandas/io/parsers.py\u001b[0m in \u001b[0;36m_read\u001b[0;34m(filepath_or_buffer, kwds)\u001b[0m\n\u001b[1;32m    452\u001b[0m \u001b[0;34m\u001b[0m\u001b[0m\n\u001b[1;32m    453\u001b[0m     \u001b[0;31m# Create the parser.\u001b[0m\u001b[0;34m\u001b[0m\u001b[0;34m\u001b[0m\u001b[0;34m\u001b[0m\u001b[0m\n\u001b[0;32m--> 454\u001b[0;31m     \u001b[0mparser\u001b[0m \u001b[0;34m=\u001b[0m \u001b[0mTextFileReader\u001b[0m\u001b[0;34m(\u001b[0m\u001b[0mfp_or_buf\u001b[0m\u001b[0;34m,\u001b[0m \u001b[0;34m**\u001b[0m\u001b[0mkwds\u001b[0m\u001b[0;34m)\u001b[0m\u001b[0;34m\u001b[0m\u001b[0;34m\u001b[0m\u001b[0m\n\u001b[0m\u001b[1;32m    455\u001b[0m \u001b[0;34m\u001b[0m\u001b[0m\n\u001b[1;32m    456\u001b[0m     \u001b[0;32mif\u001b[0m \u001b[0mchunksize\u001b[0m \u001b[0;32mor\u001b[0m \u001b[0miterator\u001b[0m\u001b[0;34m:\u001b[0m\u001b[0;34m\u001b[0m\u001b[0;34m\u001b[0m\u001b[0m\n",
            "\u001b[0;32m/usr/local/lib/python3.7/dist-packages/pandas/io/parsers.py\u001b[0m in \u001b[0;36m__init__\u001b[0;34m(self, f, engine, **kwds)\u001b[0m\n\u001b[1;32m    946\u001b[0m             \u001b[0mself\u001b[0m\u001b[0;34m.\u001b[0m\u001b[0moptions\u001b[0m\u001b[0;34m[\u001b[0m\u001b[0;34m\"has_index_names\"\u001b[0m\u001b[0;34m]\u001b[0m \u001b[0;34m=\u001b[0m \u001b[0mkwds\u001b[0m\u001b[0;34m[\u001b[0m\u001b[0;34m\"has_index_names\"\u001b[0m\u001b[0;34m]\u001b[0m\u001b[0;34m\u001b[0m\u001b[0;34m\u001b[0m\u001b[0m\n\u001b[1;32m    947\u001b[0m \u001b[0;34m\u001b[0m\u001b[0m\n\u001b[0;32m--> 948\u001b[0;31m         \u001b[0mself\u001b[0m\u001b[0;34m.\u001b[0m\u001b[0m_make_engine\u001b[0m\u001b[0;34m(\u001b[0m\u001b[0mself\u001b[0m\u001b[0;34m.\u001b[0m\u001b[0mengine\u001b[0m\u001b[0;34m)\u001b[0m\u001b[0;34m\u001b[0m\u001b[0;34m\u001b[0m\u001b[0m\n\u001b[0m\u001b[1;32m    949\u001b[0m \u001b[0;34m\u001b[0m\u001b[0m\n\u001b[1;32m    950\u001b[0m     \u001b[0;32mdef\u001b[0m \u001b[0mclose\u001b[0m\u001b[0;34m(\u001b[0m\u001b[0mself\u001b[0m\u001b[0;34m)\u001b[0m\u001b[0;34m:\u001b[0m\u001b[0;34m\u001b[0m\u001b[0;34m\u001b[0m\u001b[0m\n",
            "\u001b[0;32m/usr/local/lib/python3.7/dist-packages/pandas/io/parsers.py\u001b[0m in \u001b[0;36m_make_engine\u001b[0;34m(self, engine)\u001b[0m\n\u001b[1;32m   1178\u001b[0m     \u001b[0;32mdef\u001b[0m \u001b[0m_make_engine\u001b[0m\u001b[0;34m(\u001b[0m\u001b[0mself\u001b[0m\u001b[0;34m,\u001b[0m \u001b[0mengine\u001b[0m\u001b[0;34m=\u001b[0m\u001b[0;34m\"c\"\u001b[0m\u001b[0;34m)\u001b[0m\u001b[0;34m:\u001b[0m\u001b[0;34m\u001b[0m\u001b[0;34m\u001b[0m\u001b[0m\n\u001b[1;32m   1179\u001b[0m         \u001b[0;32mif\u001b[0m \u001b[0mengine\u001b[0m \u001b[0;34m==\u001b[0m \u001b[0;34m\"c\"\u001b[0m\u001b[0;34m:\u001b[0m\u001b[0;34m\u001b[0m\u001b[0;34m\u001b[0m\u001b[0m\n\u001b[0;32m-> 1180\u001b[0;31m             \u001b[0mself\u001b[0m\u001b[0;34m.\u001b[0m\u001b[0m_engine\u001b[0m \u001b[0;34m=\u001b[0m \u001b[0mCParserWrapper\u001b[0m\u001b[0;34m(\u001b[0m\u001b[0mself\u001b[0m\u001b[0;34m.\u001b[0m\u001b[0mf\u001b[0m\u001b[0;34m,\u001b[0m \u001b[0;34m**\u001b[0m\u001b[0mself\u001b[0m\u001b[0;34m.\u001b[0m\u001b[0moptions\u001b[0m\u001b[0;34m)\u001b[0m\u001b[0;34m\u001b[0m\u001b[0;34m\u001b[0m\u001b[0m\n\u001b[0m\u001b[1;32m   1181\u001b[0m         \u001b[0;32melse\u001b[0m\u001b[0;34m:\u001b[0m\u001b[0;34m\u001b[0m\u001b[0;34m\u001b[0m\u001b[0m\n\u001b[1;32m   1182\u001b[0m             \u001b[0;32mif\u001b[0m \u001b[0mengine\u001b[0m \u001b[0;34m==\u001b[0m \u001b[0;34m\"python\"\u001b[0m\u001b[0;34m:\u001b[0m\u001b[0;34m\u001b[0m\u001b[0;34m\u001b[0m\u001b[0m\n",
            "\u001b[0;32m/usr/local/lib/python3.7/dist-packages/pandas/io/parsers.py\u001b[0m in \u001b[0;36m__init__\u001b[0;34m(self, src, **kwds)\u001b[0m\n\u001b[1;32m   2008\u001b[0m         \u001b[0mkwds\u001b[0m\u001b[0;34m[\u001b[0m\u001b[0;34m\"usecols\"\u001b[0m\u001b[0;34m]\u001b[0m \u001b[0;34m=\u001b[0m \u001b[0mself\u001b[0m\u001b[0;34m.\u001b[0m\u001b[0musecols\u001b[0m\u001b[0;34m\u001b[0m\u001b[0;34m\u001b[0m\u001b[0m\n\u001b[1;32m   2009\u001b[0m \u001b[0;34m\u001b[0m\u001b[0m\n\u001b[0;32m-> 2010\u001b[0;31m         \u001b[0mself\u001b[0m\u001b[0;34m.\u001b[0m\u001b[0m_reader\u001b[0m \u001b[0;34m=\u001b[0m \u001b[0mparsers\u001b[0m\u001b[0;34m.\u001b[0m\u001b[0mTextReader\u001b[0m\u001b[0;34m(\u001b[0m\u001b[0msrc\u001b[0m\u001b[0;34m,\u001b[0m \u001b[0;34m**\u001b[0m\u001b[0mkwds\u001b[0m\u001b[0;34m)\u001b[0m\u001b[0;34m\u001b[0m\u001b[0;34m\u001b[0m\u001b[0m\n\u001b[0m\u001b[1;32m   2011\u001b[0m         \u001b[0mself\u001b[0m\u001b[0;34m.\u001b[0m\u001b[0munnamed_cols\u001b[0m \u001b[0;34m=\u001b[0m \u001b[0mself\u001b[0m\u001b[0;34m.\u001b[0m\u001b[0m_reader\u001b[0m\u001b[0;34m.\u001b[0m\u001b[0munnamed_cols\u001b[0m\u001b[0;34m\u001b[0m\u001b[0;34m\u001b[0m\u001b[0m\n\u001b[1;32m   2012\u001b[0m \u001b[0;34m\u001b[0m\u001b[0m\n",
            "\u001b[0;32mpandas/_libs/parsers.pyx\u001b[0m in \u001b[0;36mpandas._libs.parsers.TextReader.__cinit__\u001b[0;34m()\u001b[0m\n",
            "\u001b[0;32mpandas/_libs/parsers.pyx\u001b[0m in \u001b[0;36mpandas._libs.parsers.TextReader._setup_parser_source\u001b[0;34m()\u001b[0m\n",
            "\u001b[0;31mFileNotFoundError\u001b[0m: [Errno 2] No such file or directory: 'Fraud_Data.csv'"
          ]
        }
      ]
    },
    {
      "cell_type": "code",
      "metadata": {
        "id": "f9WLeQEwc__e"
      },
      "source": [
        "ips = pd.read_csv(\"IpAddress_to_Country.csv\",header=0)"
      ],
      "execution_count": null,
      "outputs": []
    },
    {
      "cell_type": "code",
      "metadata": {
        "id": "Hu07KHjPdFpb"
      },
      "source": [
        "fraudes.dtypes"
      ],
      "execution_count": null,
      "outputs": []
    },
    {
      "cell_type": "code",
      "metadata": {
        "id": "H50aU3RZdKhx"
      },
      "source": [
        "for col in fraudes.columns:\n",
        "    print(\"# de valores nulos em {}: {}\".format(col, fraudes[col].isnull().sum()))"
      ],
      "execution_count": null,
      "outputs": []
    },
    {
      "cell_type": "code",
      "metadata": {
        "id": "nKW9JN_BdQd6"
      },
      "source": [
        "fraudes.describe()"
      ],
      "execution_count": null,
      "outputs": []
    },
    {
      "cell_type": "code",
      "metadata": {
        "id": "lKKVsJOqdXbq"
      },
      "source": [
        "for col in ips.columns:\n",
        "    print(\"{}: {}\".format(col, ips[col].dtype))"
      ],
      "execution_count": null,
      "outputs": []
    },
    {
      "cell_type": "code",
      "metadata": {
        "id": "J7cVctDwdc83"
      },
      "source": [
        "# checar se os numeros de ip sao inteiros ou nao com lambdas\n",
        "ip_floats = ips.limite_inferior_ip.apply(lambda x: not x.is_integer()).sum()\n",
        "print(\"Número de limites inferiores de endereço IP com decimal não-zero: {}\".format(ip_floats))"
      ],
      "execution_count": null,
      "outputs": []
    },
    {
      "cell_type": "code",
      "metadata": {
        "id": "ghbT_1Eadh5i"
      },
      "source": [
        "ips.limite_inferior_ip = ips.limite_inferior_ip.astype(int)"
      ],
      "execution_count": null,
      "outputs": []
    },
    {
      "cell_type": "code",
      "metadata": {
        "id": "wUQnjHH3doZd"
      },
      "source": [
        "for col in ips.columns:\n",
        "    print(\"# de valores nulos em {}: {}\".format(col, ips[col].isnull().sum()))"
      ],
      "execution_count": null,
      "outputs": []
    },
    {
      "cell_type": "code",
      "metadata": {
        "id": "oehyweeodsXR"
      },
      "source": [
        "#checar se há outliers\n",
        "display(ips[ips.limite_inferior_ip == ips.limite_inferior_ip.max()])\n",
        "display(ips[ips.limite_superior_ip == ips.limite_superior_ip.max()])"
      ],
      "execution_count": null,
      "outputs": []
    },
    {
      "cell_type": "code",
      "metadata": {
        "id": "UxwUhRHPdwxl"
      },
      "source": [
        "ips.describe()"
      ],
      "execution_count": null,
      "outputs": []
    },
    {
      "cell_type": "code",
      "metadata": {
        "id": "Z_NN8UFed1IH"
      },
      "source": [
        "fraudes.describe()"
      ],
      "execution_count": null,
      "outputs": []
    },
    {
      "cell_type": "code",
      "metadata": {
        "id": "ZCPTp0pnd5y8"
      },
      "source": [
        "def isp_counts(isp):\n",
        "    pais = ips[(ips.limite_inferior_ip <= isp) & (ips.limite_superior_ip >= isp)]\n",
        "    if pais.shape[0] == 1:\n",
        "        return print(\"Único\")\n",
        "    elif pais.shape[0] > 1:\n",
        "        return print(\"Vários países\")\n",
        "    elif pais.shape[0] == 0:\n",
        "        if isp > ips.limite_superior_ip.max():\n",
        "            return print(\"Muito grande\")\n",
        "        elif isp < ips.limite_inferior_ip.min():\n",
        "            return print(\"Muito pequeno\")\n",
        "        else:\n",
        "            return print(\"Faltando\")\n",
        "        \n",
        "ip_counts = fraudes.ip.apply(isp_counts)\n",
        "ip_counts.value_counts()"
      ],
      "execution_count": null,
      "outputs": []
    },
    {
      "cell_type": "code",
      "metadata": {
        "id": "oS9QKMc9eUGu"
      },
      "source": [
        "def ip_para_pais(ip):\n",
        "    tmp = ips[(ips.limite_inferior_ip <= ip) & (ips.limite_superior_ip >= ip)].pais\n",
        "    if tmp.shape[0] == 1:\n",
        "        return tmp.iloc[0]\n",
        "    elif tmp.shape[0] < 1:\n",
        "        return print(\"Faltando\")\n",
        "    elif tmp.shape[0] > 1:\n",
        "        return print(\"Erro\")\n",
        "\n",
        "fraudes[\"pais\"] = fraudes.ip.apply(ip_para_pais)"
      ],
      "execution_count": null,
      "outputs": []
    },
    {
      "cell_type": "code",
      "metadata": {
        "id": "NgRl-0U0eZ0J"
      },
      "source": [
        "fraudes.head()"
      ],
      "execution_count": null,
      "outputs": []
    },
    {
      "cell_type": "markdown",
      "metadata": {
        "id": "nOOELV86hRgN"
      },
      "source": [
        "## Analise exploratoria"
      ]
    },
    {
      "cell_type": "code",
      "metadata": {
        "id": "3qb5B-L8hXTS"
      },
      "source": [
        "import matplotlib.pyplot as plt\n",
        "import seaborn as sns\n",
        "%matplotlib inline"
      ],
      "execution_count": null,
      "outputs": []
    },
    {
      "cell_type": "markdown",
      "metadata": {
        "id": "LthuRclkhl3u"
      },
      "source": [
        "### Genero x fraude"
      ]
    },
    {
      "cell_type": "code",
      "metadata": {
        "id": "XcSesUVWhjU4"
      },
      "source": [
        "sns.countplot(x=\"Gênero\", hue=\"fraude\", data=fraudes)\n",
        "plt.xlabel(\"Gênero\", fontsize=15)\n",
        "plt.ylabel(\"Casos\", fontsize=15)"
      ],
      "execution_count": null,
      "outputs": []
    },
    {
      "cell_type": "markdown",
      "metadata": {
        "id": "9iZymbNOh2OS"
      },
      "source": [
        "#### Hue indica de acordo com a variavel o que é fraude e o que não é"
      ]
    },
    {
      "cell_type": "markdown",
      "metadata": {
        "id": "G688Wbtcig9T"
      },
      "source": [
        "### Fraude x valor"
      ]
    },
    {
      "cell_type": "code",
      "metadata": {
        "id": "NkEiwm69iPFM"
      },
      "source": [
        "sns.factorplot(x=\"fraude\", y=\"valor\", data=fraudes)\n",
        "plt.xlabel(\"Não são fraude (0) / Fraude (1)\", fontsize=15)\n",
        "plt.ylabel(\"Valor de compra\", fontsize=15)"
      ],
      "execution_count": null,
      "outputs": []
    },
    {
      "cell_type": "markdown",
      "metadata": {
        "id": "7mqI6-dsik5B"
      },
      "source": [
        "### Fraude x idade"
      ]
    },
    {
      "cell_type": "code",
      "metadata": {
        "id": "sjyCfeJQibaJ"
      },
      "source": [
        "sns.factorplot(x=\"fraude\", y=\"idade\", data=fraudes)\n",
        "plt.xlabel(\"Não são fraude (0) / \"Fraude (1)\", fontsize=15)\n",
        "plt.ylabel(\"Idade\", fontsize-15)"
      ],
      "execution_count": null,
      "outputs": []
    },
    {
      "cell_type": "markdown",
      "metadata": {
        "id": "O7r77oNNiy83"
      },
      "source": [
        "### Fraude x fonte"
      ]
    },
    {
      "cell_type": "code",
      "metadata": {
        "id": "nU1Dmv4bixHC"
      },
      "source": [
        "sns.countplot(x=\"fonte\", hue=\"fraude\", data=fraudes)\n",
        "plt.xlabel(\"Fonte de marketing\", fontsize=15)\n",
        "plt.ylabel(\"Contagem\", fontsize=15)"
      ],
      "execution_count": null,
      "outputs": []
    },
    {
      "cell_type": "markdown",
      "metadata": {
        "id": "zf-rKedojDet"
      },
      "source": [
        "## Explorando os países"
      ]
    },
    {
      "cell_type": "code",
      "metadata": {
        "id": "IO-rC1qkjHHw"
      },
      "source": [
        "sums_f = fraudes[fraudes[\"fraude\"] == 1][\"fraude\"].groupby(fraudes.pais).sum()\n",
        "sums_f = sums_f.to_frame().reset_index()\n",
        "\n",
        "sums_nf = fraudes[fraudes[\"fraude\"] == 0][\"fraude\"].groupby(fraudes.pais).sum()\n",
        "sums_nf = sums_nf.to_frame().reset_index()"
      ],
      "execution_count": null,
      "outputs": []
    },
    {
      "cell_type": "code",
      "metadata": {
        "id": "tAcT1KY2jd7o"
      },
      "source": [
        "f, ax = plt.subplots(figsize=(20,25))\n",
        "sns.set_color_codes(\"muted\")\n",
        "sns.barplot(x=\"fraude\", y=\"pais\", data=sums_f,\n",
        "            label=\"Total\", color=\"b\")\n",
        "plt.xlabel(\"Contagem\",fontsize=15)\n",
        "plt.ylabel(\"Países\",fontsize=15)"
      ],
      "execution_count": null,
      "outputs": []
    },
    {
      "cell_type": "markdown",
      "metadata": {
        "id": "70bPvh_djyU8"
      },
      "source": [
        "## Explorando os IDs e IPs"
      ]
    },
    {
      "cell_type": "code",
      "metadata": {
        "id": "E43QgCkhjw4F"
      },
      "source": [
        "tmp_df = pd.DataFrame(columns=(\"fraude\",\"id_por_dispositivo\",\"id_por_ip\"))\n",
        "tmp_df[\"fraude\"] = fraudes[\"fraude\"]\n",
        "\n",
        "userid_count = fraudes.groupby[\"id_dispositivo\"].id.count()\n",
        "tmp_df[id_por_dispositivo\"] = fraude_df.id_dispositivo.apply(lambda x: userid_count[x])\n",
        "\n",
        "userid_count2 = fraudes.groupby[\"ip\"].id.count()\n",
        "tmp_df[\"id_por_ip\"] = fraudes.ip.apply(lambda x: userid_count2[x])"
      ],
      "execution_count": null,
      "outputs": []
    }
  ]
}